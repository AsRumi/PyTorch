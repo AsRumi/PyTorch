{
  "nbformat": 4,
  "nbformat_minor": 0,
  "metadata": {
    "colab": {
      "provenance": [],
      "gpuType": "T4",
      "authorship_tag": "ABX9TyMVLmXeMk/YjrlS7RPhMYpL",
      "include_colab_link": true
    },
    "kernelspec": {
      "name": "python3",
      "display_name": "Python 3"
    },
    "language_info": {
      "name": "python"
    },
    "accelerator": "GPU"
  },
  "cells": [
    {
      "cell_type": "markdown",
      "metadata": {
        "id": "view-in-github",
        "colab_type": "text"
      },
      "source": [
        "<a href=\"https://colab.research.google.com/github/AsRumi/PyTorch/blob/main/PyTorch_Exercises_01.ipynb\" target=\"_parent\"><img src=\"https://colab.research.google.com/assets/colab-badge.svg\" alt=\"Open In Colab\"/></a>"
      ]
    },
    {
      "cell_type": "code",
      "execution_count": null,
      "metadata": {
        "id": "hYO3wM12P8x5"
      },
      "outputs": [],
      "source": [
        "import torch\n",
        "from torch import nn\n",
        "import matplotlib.pyplot as plt"
      ]
    },
    {
      "cell_type": "code",
      "source": [
        "weight = 0.3\n",
        "bias = 0.9\n",
        "X = torch.arange(1, 10, 0.1).unsqueeze(dim = 1)\n",
        "Y = weight * X + bias\n",
        "\n",
        "train_length = int((0.8*len(X)))\n",
        "X_train = X[: train_length]\n",
        "X_test = X[train_length: ]\n",
        "Y_train = Y[: train_length]\n",
        "Y_test = Y[train_length: ]"
      ],
      "metadata": {
        "id": "99hgj5s5QYZo"
      },
      "execution_count": null,
      "outputs": []
    },
    {
      "cell_type": "code",
      "source": [
        "print(X_train.dtype)"
      ],
      "metadata": {
        "colab": {
          "base_uri": "https://localhost:8080/"
        },
        "id": "4UDUAF6dW8VM",
        "outputId": "0320468f-008b-4701-a0e2-8b2bfcf5a895"
      },
      "execution_count": null,
      "outputs": [
        {
          "output_type": "stream",
          "name": "stdout",
          "text": [
            "torch.float32\n"
          ]
        }
      ]
    },
    {
      "cell_type": "code",
      "source": [
        "def plot_data(X_train = X_train, X_test = X_test, Y_train = Y_train, Y_test = Y_test, Y_pred = None):\n",
        "    plt.plot(X_train, Y_train, c = 'b', ls = \":\", label = \"Training points\")\n",
        "    plt.plot(X_test, Y_test, c = 'g', ls = \":\", label = \"Testing points\")\n",
        "    if Y_pred is not None:\n",
        "        plt.plot(X_test, Y_pred, c = 'r', ls = \":\", label = \"Predicted Points\")\n",
        "    plt.legend()\n",
        "    return"
      ],
      "metadata": {
        "id": "S1o-3fq1QpQG"
      },
      "execution_count": null,
      "outputs": []
    },
    {
      "cell_type": "code",
      "source": [
        "class LinearRegression(nn.Module):\n",
        "    def __init__(self):\n",
        "        super().__init__()\n",
        "        self.layer = nn.Linear(in_features = 1,\n",
        "                               out_features = 1)\n",
        "\n",
        "    def forward(self, x: torch.tensor) -> torch.tensor:\n",
        "        return self.layer(x)"
      ],
      "metadata": {
        "id": "M8FIF_kzRvsO"
      },
      "execution_count": null,
      "outputs": []
    },
    {
      "cell_type": "code",
      "source": [
        "torch.manual_seed(42)\n",
        "model = LinearRegression()\n",
        "\n",
        "loss_fn = nn.L1Loss()\n",
        "optimizer = torch.optim.SGD(model.parameters(), lr = 0.01)"
      ],
      "metadata": {
        "id": "JlRmWIehUKy4"
      },
      "execution_count": null,
      "outputs": []
    },
    {
      "cell_type": "code",
      "source": [
        "torch.manual_seed(50)\n",
        "epochs = 300\n",
        "train_loss_values = []\n",
        "test_loss_values = []\n",
        "epochs_list = []\n",
        "\n",
        "device = \"cuda\" if torch.cuda.is_available() else \"cpu\"\n",
        "model.to(device)\n",
        "X_train = X_train.to(device)\n",
        "X_test = X_test.to(device)\n",
        "Y_train = Y_train.to(device)\n",
        "Y_test = Y_test.to(device)\n",
        "\n",
        "for epoch in range(epochs):\n",
        "    model.train()\n",
        "    y_pred = model(X_train)\n",
        "    train_loss = loss_fn(y_pred, Y_train)\n",
        "    optimizer.zero_grad()\n",
        "    train_loss.backward()\n",
        "    optimizer.step()\n",
        "\n",
        "    model.eval()\n",
        "    with torch.inference_mode():\n",
        "        y_pred = model(X_test)\n",
        "        test_loss = loss_fn(y_pred, Y_test.type(torch.float))\n",
        "        if epoch % 30 == 0:\n",
        "            epochs_list.append(epoch)\n",
        "            train_loss = train_loss.to(\"cpu\")\n",
        "            test_loss = test_loss.to(\"cpu\")\n",
        "            train_loss_values.append(train_loss.detach().numpy())\n",
        "            test_loss_values.append(test_loss.detach().numpy())\n",
        "            print(f\"Epoch: {epoch} | MAE Train Loss: {train_loss} | MAE Test Loss: {test_loss} \")"
      ],
      "metadata": {
        "colab": {
          "base_uri": "https://localhost:8080/"
        },
        "id": "wP3jQBUPUh0t",
        "outputId": "0b940bdc-f1ca-4d51-d197-767d6961f894"
      },
      "execution_count": null,
      "outputs": [
        {
          "output_type": "stream",
          "name": "stdout",
          "text": [
            "Epoch: 0 | MAE Train Loss: 0.02770880050957203 | MAE Test Loss: 0.4287421703338623 \n",
            "Epoch: 30 | MAE Train Loss: 0.02770880050957203 | MAE Test Loss: 0.4287421703338623 \n",
            "Epoch: 60 | MAE Train Loss: 0.02770880050957203 | MAE Test Loss: 0.4287421703338623 \n",
            "Epoch: 90 | MAE Train Loss: 0.02770880050957203 | MAE Test Loss: 0.4287421703338623 \n",
            "Epoch: 120 | MAE Train Loss: 0.02770880050957203 | MAE Test Loss: 0.4287421703338623 \n",
            "Epoch: 150 | MAE Train Loss: 0.02770880050957203 | MAE Test Loss: 0.4287421703338623 \n",
            "Epoch: 180 | MAE Train Loss: 0.02770880050957203 | MAE Test Loss: 0.4287421703338623 \n",
            "Epoch: 210 | MAE Train Loss: 0.02770880050957203 | MAE Test Loss: 0.4287421703338623 \n",
            "Epoch: 240 | MAE Train Loss: 0.02770880050957203 | MAE Test Loss: 0.4287421703338623 \n",
            "Epoch: 270 | MAE Train Loss: 0.02770880050957203 | MAE Test Loss: 0.4287421703338623 \n"
          ]
        }
      ]
    },
    {
      "cell_type": "code",
      "source": [
        "print(\"The model learned the following values for weights and bias:\")\n",
        "print(model.state_dict())\n",
        "print(\"\\nAnd the original values for weights and bias are:\")\n",
        "print(f\"weights: {weight}, bias: {bias}\")"
      ],
      "metadata": {
        "colab": {
          "base_uri": "https://localhost:8080/"
        },
        "id": "6Xp5jxWMWkBu",
        "outputId": "111dcbcd-52cd-4e9f-fcd7-6579d785d921"
      },
      "execution_count": null,
      "outputs": [
        {
          "output_type": "stream",
          "name": "stdout",
          "text": [
            "The model learned the following values for weights and bias:\n",
            "OrderedDict([('layer.weight', tensor([[0.3077]], device='cuda:0')), ('layer.bias', tensor([0.8372], device='cuda:0'))])\n",
            "\n",
            "And the original values for weights and bias are:\n",
            "weights: 0.3, bias: 0.9\n"
          ]
        }
      ]
    },
    {
      "cell_type": "code",
      "source": [
        "model.eval()\n",
        "y_pred = None\n",
        "with torch.inference_mode():\n",
        "    model.to(\"cpu\")\n",
        "    X_test = X_test.to(\"cpu\")\n",
        "    y_pred = model(X_test)"
      ],
      "metadata": {
        "id": "53yMlKRefC6d"
      },
      "execution_count": null,
      "outputs": []
    },
    {
      "cell_type": "code",
      "source": [
        "plot_data(Y_pred = y_pred)"
      ],
      "metadata": {
        "colab": {
          "base_uri": "https://localhost:8080/",
          "height": 433
        },
        "id": "_Z8hu3bTfa0b",
        "outputId": "0f69c593-4bb2-49e2-b3b6-c687deb892ec"
      },
      "execution_count": null,
      "outputs": [
        {
          "output_type": "display_data",
          "data": {
            "text/plain": [
              "<Figure size 640x480 with 1 Axes>"
            ],
            "image/png": "[encoded data removed]"
          },
          "metadata": {}
        }
      ]
    },
    {
      "cell_type": "code",
      "source": [
        "from pathlib import Path\n",
        "MODEL_PATH = Path(\"models\")\n",
        "MODEL_PATH.mkdir(parents=True, exist_ok=True)\n",
        "MODEL_NAME = \"01_exercise.pth\"\n",
        "MODEL_SAVE_PATH = MODEL_PATH / MODEL_NAME\n",
        "\n",
        "print(f\"Saving model to: {MODEL_SAVE_PATH}\")\n",
        "torch.save(obj=model.state_dict(), # only saving the state_dict() only saves the models learned parameters\n",
        "           f=MODEL_SAVE_PATH)"
      ],
      "metadata": {
        "colab": {
          "base_uri": "https://localhost:8080/"
        },
        "id": "w5KFMr6ifjDN",
        "outputId": "e748570e-5329-44ec-b451-d83802f76c4f"
      },
      "execution_count": null,
      "outputs": [
        {
          "output_type": "stream",
          "name": "stdout",
          "text": [
            "Saving model to: models/01_exercise.pth\n"
          ]
        }
      ]
    }
  ]
}